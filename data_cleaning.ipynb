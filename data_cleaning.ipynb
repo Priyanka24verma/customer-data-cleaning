{
 "cells": [
  {
   "cell_type": "code",
   "execution_count": null,
   "id": "b4506e25",
   "metadata": {
    "vscode": {
     "languageId": "plaintext"
    }
   },
   "outputs": [],
   "source": [
    "#  Customer Personality Data Cleaning\n",
    "\n",
    "#  Importing Libraries\n",
    "import pandas as pd\n",
    "\n",
    "#  Load Raw Dataset\n",
    "df = pd.read_csv('customer_personality_150_raw.csv')\n",
    "\n",
    "# Explore Data\n",
    "print(\"Initial Info:\\n\")\n",
    "print(df.info())\n",
    "print(\"\\nFirst 5 rows:\\n\")\n",
    "print(df.head())\n",
    "\n",
    "#  Step 1: Drop rows with missing Age (critical field)\n",
    "df = df.dropna(subset=['Age'])\n",
    "\n",
    "#  Step 2: Fill Gender and Country missing values with 'Unknown'\n",
    "df['Gender'] = df['Gender'].fillna('Unknown')\n",
    "df['Country'] = df['Country'].fillna('Unknown')\n",
    "\n",
    "#  Step 3: Clean up formatting\n",
    "df['Gender'] = df['Gender'].str.strip().str.lower()\n",
    "df['Country'] = df['Country'].str.strip().str.title()\n",
    "\n",
    "#  Step 4: Convert 'Join Date' to datetime\n",
    "df['Join Date'] = pd.to_datetime(df['Join Date'], dayfirst=True, errors='coerce')\n",
    "\n",
    "#  Step 5: Remove duplicates\n",
    "df = df.drop_duplicates()\n",
    "\n",
    "#  Step 6: Rename columns\n",
    "df.columns = df.columns.str.strip().str.lower().str.replace(\" \", \"_\")\n",
    "\n",
    "#  Step 7: Save Cleaned Data\n",
    "df.to_csv('customer_personality_150_cleaned.csv', index=False)\n",
    "\n",
    "#  Show final data\n",
    "print(\"\\nCleaned Data Preview:\")\n",
    "print(df.head())"
   ]
  }
 ],
 "metadata": {
  "language_info": {
   "name": "python"
  }
 },
 "nbformat": 4,
 "nbformat_minor": 5
}
